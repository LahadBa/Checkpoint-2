{
 "cells": [
  {
   "cell_type": "markdown",
   "id": "79d6dd8e",
   "metadata": {},
   "source": [
    "# EXERCICE 1"
   ]
  },
  {
   "cell_type": "code",
   "execution_count": 21,
   "id": "fe9b1745",
   "metadata": {},
   "outputs": [
    {
     "name": "stdout",
     "output_type": "stream",
     "text": [
      "[2002, 2009, 2016, 2023, 2037, 2044, 2051, 2058, 2072, 2079, 2086, 2093, 2107, 2114, 2121, 2128, 2142, 2149, 2156, 2163, 2177, 2184, 2191, 2198, 2212, 2219, 2226, 2233, 2247, 2254, 2261, 2268, 2282, 2289, 2296, 2303, 2317, 2324, 2331, 2338, 2352, 2359, 2366, 2373, 2387, 2394, 2401, 2408, 2422, 2429, 2436, 2443, 2457, 2464, 2471, 2478, 2492, 2499, 2506, 2513, 2527, 2534, 2541, 2548, 2562, 2569, 2576, 2583, 2597, 2604, 2611, 2618, 2632, 2639, 2646, 2653, 2667, 2674, 2681, 2688, 2702, 2709, 2716, 2723, 2737, 2744, 2751, 2758, 2772, 2779, 2786, 2793, 2807, 2814, 2821, 2828, 2842, 2849, 2856, 2863, 2877, 2884, 2891, 2898, 2912, 2919, 2926, 2933, 2947, 2954, 2961, 2968, 2982, 2989, 2996, 3003, 3017, 3024, 3031, 3038, 3052, 3059, 3066, 3073, 3087, 3094, 3101, 3108, 3122, 3129, 3136, 3143, 3157, 3164, 3171, 3178, 3192, 3199]\n"
     ]
    }
   ],
   "source": [
    "valeur = []\n",
    "for i in range(2000,3201):\n",
    "    if (i%7==0 and i%5!=0):\n",
    "        valeur.append(i)\n",
    "print(valeur)"
   ]
  },
  {
   "cell_type": "markdown",
   "id": "7ef82a64",
   "metadata": {},
   "source": [
    "# EXERCICE 2"
   ]
  },
  {
   "cell_type": "code",
   "execution_count": null,
   "id": "511e8a0c",
   "metadata": {},
   "outputs": [],
   "source": [
    "facto=1\n",
    "n=int(input(\"Saisir un entier: \"))\n",
    "for i in range(1,n+1):\n",
    "    facto = facto*i\n",
    "print(\"Factorielle de n est : \", facto)\n"
   ]
  },
  {
   "cell_type": "markdown",
   "id": "d4405e7f",
   "metadata": {},
   "source": [
    "# EXERCICE 3"
   ]
  },
  {
   "cell_type": "code",
   "execution_count": 4,
   "id": "b17f8cef",
   "metadata": {},
   "outputs": [
    {
     "name": "stdout",
     "output_type": "stream",
     "text": [
      "Saisir un entier: 8\n",
      "{1: 1, 2: 4, 3: 9, 4: 16, 5: 25, 6: 36, 7: 49, 8: 64}\n"
     ]
    }
   ],
   "source": [
    "dicto = {}\n",
    "\n",
    "n=int(input(\"Saisir un entier: \"))\n",
    "for i in range(1,n+1):\n",
    "    dicto[i]=i*i\n",
    "print(dicto)\n",
    "    "
   ]
  },
  {
   "cell_type": "markdown",
   "id": "daa1118b",
   "metadata": {},
   "source": [
    "# EXERCICE 4"
   ]
  },
  {
   "cell_type": "code",
   "execution_count": 15,
   "id": "711366b9",
   "metadata": {},
   "outputs": [
    {
     "name": "stdout",
     "output_type": "stream",
     "text": [
      "Saisir la chaine :kitten\n",
      "Saisir l'index :5\n",
      "kitte\n"
     ]
    }
   ],
   "source": [
    "a=input(\"Saisir la chaine :\")\n",
    "n=int(input(\"Saisir l'index :\"))\n",
    "lista=list(a)\n",
    "if n in range(0,len(a)):\n",
    "    del lista[n]\n",
    "    newa=\"\".join(lista)\n",
    "    print(newa)\n",
    "else:\n",
    "    print(\"l'index est supérieur a la chaine\")"
   ]
  },
  {
   "cell_type": "markdown",
   "id": "1dd96662",
   "metadata": {},
   "source": [
    "# EXERCICE 5"
   ]
  },
  {
   "cell_type": "code",
   "execution_count": 2,
   "id": "275d5f84",
   "metadata": {},
   "outputs": [
    {
     "name": "stdout",
     "output_type": "stream",
     "text": [
      "[[0, 1], [2, 3], [4, 5]]\n",
      "<class 'list'>\n"
     ]
    }
   ],
   "source": [
    "import numpy as np\n",
    "na = np.array([[0,1],[2,3],[4,5]]);\n",
    "print(na.tolist())\n",
    "nptolist = na.tolist()\n",
    "print(type(nptolist))"
   ]
  },
  {
   "cell_type": "markdown",
   "id": "9a29b8c5",
   "metadata": {},
   "source": [
    "# EXERCICE 6"
   ]
  },
  {
   "cell_type": "code",
   "execution_count": 3,
   "id": "bdeddc39",
   "metadata": {},
   "outputs": [
    {
     "name": "stdout",
     "output_type": "stream",
     "text": [
      "[[ 1. -1.]\n",
      " [-1.  1.]]\n"
     ]
    }
   ],
   "source": [
    "import numpy as np\n",
    "a1 = np.array([[0,1,2]]);\n",
    "a2 = np.array([[2,1,0]]);\n",
    "\n",
    "covariance = np.cov(a1,a2);\n",
    "print(covariance)"
   ]
  },
  {
   "cell_type": "markdown",
   "id": "89c8a537",
   "metadata": {},
   "source": [
    "# EXERCICE 7"
   ]
  },
  {
   "cell_type": "code",
   "execution_count": 8,
   "id": "45954ff2",
   "metadata": {},
   "outputs": [
    {
     "name": "stdout",
     "output_type": "stream",
     "text": [
      "Ecriver le nombre de valeurs a saisir 3\n",
      "Saisir la valeur: 100\n",
      "Saisir la valeur: 150\n",
      "Saisir la valeur: 180\n",
      "les valeurs saisies sont: [100, 150, 180]\n",
      "les racines carrées sont:  [18, 22, 24]\n"
     ]
    }
   ],
   "source": [
    "from math import *\n",
    "\n",
    "c = 50\n",
    "h = 30\n",
    "\n",
    "values=[]\n",
    "\n",
    "values_of_rc=[]\n",
    "\n",
    "number_values = int(input(\"Ecriver le nombre de valeurs a saisir \"))\n",
    "\n",
    "for i in range(1,number_values+1):\n",
    "    i = int(input(\"Saisir la valeur: \"))\n",
    "    \n",
    "    val2 =round(sqrt((2*c*i)/h))\n",
    "    values.append(i)\n",
    "    values_of_rc.append(val2)\n",
    "    \n",
    "print(\"les valeurs saisies sont:\",values)\n",
    "print(\"les racines carrées sont: \",values_of_rc)"
   ]
  },
  {
   "cell_type": "code",
   "execution_count": null,
   "id": "3c6493b5",
   "metadata": {},
   "outputs": [],
   "source": []
  },
  {
   "cell_type": "code",
   "execution_count": null,
   "id": "a1f71080",
   "metadata": {},
   "outputs": [],
   "source": []
  }
 ],
 "metadata": {
  "kernelspec": {
   "display_name": "Python 3",
   "language": "python",
   "name": "python3"
  },
  "language_info": {
   "codemirror_mode": {
    "name": "ipython",
    "version": 3
   },
   "file_extension": ".py",
   "mimetype": "text/x-python",
   "name": "python",
   "nbconvert_exporter": "python",
   "pygments_lexer": "ipython3",
   "version": "3.8.8"
  }
 },
 "nbformat": 4,
 "nbformat_minor": 5
}
